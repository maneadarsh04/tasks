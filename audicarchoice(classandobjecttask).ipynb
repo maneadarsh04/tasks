{
  "nbformat": 4,
  "nbformat_minor": 0,
  "metadata": {
    "colab": {
      "provenance": [],
      "authorship_tag": "ABX9TyMSg5NUfMDwoAvhu1akgKI/",
      "include_colab_link": true
    },
    "kernelspec": {
      "name": "python3",
      "display_name": "Python 3"
    },
    "language_info": {
      "name": "python"
    }
  },
  "cells": [
    {
      "cell_type": "markdown",
      "metadata": {
        "id": "view-in-github",
        "colab_type": "text"
      },
      "source": [
        "<a href=\"https://colab.research.google.com/github/maneadarsh04/tasks/blob/main/audicarchoice(classandobjecttask).ipynb\" target=\"_parent\"><img src=\"https://colab.research.google.com/assets/colab-badge.svg\" alt=\"Open In Colab\"/></a>"
      ]
    },
    {
      "cell_type": "code",
      "source": [
        "class audi:\n",
        "  def __init__(self,car_name,engine_type):\n",
        "    self.car_name=car_name\n",
        "    self.engine_type=engine_type\n",
        "\n",
        "  def car_details(self):\n",
        "    print(f\"Car name: {self.car_name}\")\n",
        "    print(f\"Engine type: {self.engine_type}\")\n",
        "\n",
        "obj = audi\n",
        "\n",
        "while True:\n",
        "  print(\"1. R8\\n2. A4\\n3. Q7\")\n",
        "  car_choice = int(input(\"Enter your car choice: \"))\n",
        "  if car_choice > 3:\n",
        "    print(\"Invalid choice\")\n",
        "    continue\n",
        "  print(\"1. EV\\n2. Petrol\\n3. Diesel\")\n",
        "  engine_choice = int(input(\"Enter your engine choice: \"))\n",
        "  if engine_choice > 3:\n",
        "    print(\"Invalid choice\")\n",
        "    continue\n",
        "  if car_choice == 1 and engine_choice == 1:\n",
        "    obj = audi(\"R8\",\"EV\")\n",
        "    obj.car_details()\n",
        "    break\n",
        "  elif car_choice == 1 and engine_choice == 2:\n",
        "    obj = audi(\"R8\",\"Petrol\")\n",
        "    obj.car_details()\n",
        "    break\n",
        "  elif car_choice == 1 and engine_choice == 3:\n",
        "    obj = audi(\"R8\",\"Diesel\")\n",
        "    obj.car_details()\n",
        "    break\n",
        "  elif car_choice == 2 and engine_choice == 1:\n",
        "    obj = audi(\"A4\",\"EV\")\n",
        "    obj.car_details()\n",
        "    break\n",
        "  elif car_choice == 2 and engine_choice == 2:\n",
        "    obj = audi(\"A4\",\"Petrol\")\n",
        "    obj.car_details()\n",
        "    break\n",
        "  elif car_choice == 2 and engine_choice == 3:\n",
        "    obj = audi(\"A4\",\"Diesel\")\n",
        "    obj.car_details()\n",
        "    break\n",
        "  elif car_choice == 3 and engine_choice == 1:\n",
        "    obj = audi(\"Q7\",\"EV\")\n",
        "    obj.car_details()\n",
        "    break\n",
        "  elif car_choice == 3 and engine_choice == 2:\n",
        "    obj = audi(\"Q7\",\"Petrol\")\n",
        "    obj.car_details()\n",
        "    break\n",
        "  elif car_choice == 3 and engine_choice == 3:\n",
        "    obj = audi(\"Q7\",\"Diesel\")\n",
        "    obj.car_details()\n",
        "    break\n",
        "  else:\n",
        "    print(\"Invalid choice\")\n",
        "\n",
        ""
      ],
      "metadata": {
        "colab": {
          "base_uri": "https://localhost:8080/"
        },
        "id": "YCyyrOj0cytt",
        "outputId": "b350365a-8a02-423e-b8ae-461193fa8ccc"
      },
      "execution_count": 2,
      "outputs": [
        {
          "output_type": "stream",
          "name": "stdout",
          "text": [
            "1. R8\n",
            "2. A4\n",
            "3. Q7\n",
            "Enter your car choice: 3\n",
            "1. EV\n",
            "2. Petrol\n",
            "3. Diesel\n",
            "Enter your engine choice: 3\n",
            "Car name: Q7\n",
            "Engine type: Diesel\n"
          ]
        }
      ]
    }
  ]
}